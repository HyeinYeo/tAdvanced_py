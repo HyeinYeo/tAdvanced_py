{
 "cells": [
  {
   "cell_type": "code",
   "execution_count": 3,
   "id": "c246c60c-7db0-4d4b-842f-b3078284961f",
   "metadata": {},
   "outputs": [
    {
     "data": {
      "text/plain": [
       "45"
      ]
     },
     "execution_count": 3,
     "metadata": {},
     "output_type": "execute_result"
    }
   ],
   "source": [
    "#b\n",
    "# run: shift + enter\n",
    "45"
   ]
  },
  {
   "cell_type": "markdown",
   "id": "11b8a372-0d98-447e-921f-109f6428df3d",
   "metadata": {},
   "source": [
    "markdown space\n",
    "\n",
    "# Heading 1\n",
    "## Heading 2\n",
    "### Heading 3"
   ]
  },
  {
   "cell_type": "markdown",
   "id": "0d984828-bce6-43c7-97bc-2294df16dafe",
   "metadata": {
    "tags": []
   },
   "source": [
    "- markdown: blue(left) + m\n",
    "- item 1\n",
    "-item 2"
   ]
  },
  {
   "cell_type": "code",
   "execution_count": 4,
   "id": "2124a78c-918a-4913-867f-deeeb3a8c842",
   "metadata": {},
   "outputs": [
    {
     "name": "stdout",
     "output_type": "stream",
     "text": [
      "45\n"
     ]
    }
   ],
   "source": [
    "print(45) #주석처리"
   ]
  },
  {
   "cell_type": "markdown",
   "id": "42de4965-b7f6-4c42-a25a-58d977098319",
   "metadata": {
    "tags": []
   },
   "source": [
    "delete: (block) + D, D"
   ]
  }
 ],
 "metadata": {
  "kernelspec": {
   "display_name": "Python 3 (ipykernel)",
   "language": "python",
   "name": "python3"
  },
  "language_info": {
   "codemirror_mode": {
    "name": "ipython",
    "version": 3
   },
   "file_extension": ".py",
   "mimetype": "text/x-python",
   "name": "python",
   "nbconvert_exporter": "python",
   "pygments_lexer": "ipython3",
   "version": "3.9.7"
  }
 },
 "nbformat": 4,
 "nbformat_minor": 5
}
