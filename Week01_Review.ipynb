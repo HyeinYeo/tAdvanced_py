{
 "cells": [
  {
   "cell_type": "markdown",
   "id": "0d984828-bce6-43c7-97bc-2294df16dafe",
   "metadata": {
    "tags": []
   },
   "source": [
    "- markdown: blue(left) + m\n",
    "- item 1\n",
    "-item 2"
   ]
  },
  {
   "cell_type": "markdown",
   "id": "660f8a4d-70a7-436b-8d0d-9e376a9da454",
   "metadata": {},
   "source": [
    "## 프로그래밍 정의\n",
    "   - 프로그래밍 언어를 사용하여 프로그램을 개발하는 것\n",
    "\n",
    "## 프로그래밍 의의\n",
    "   - 논리적 사고 학습 가능\n",
    "   \n",
    "## Programming Language\n",
    "   - 프로그램 개발 시 사용하는 도구\n",
    "   - 인간이 원하는 것을 컴퓨터에게 명령 시, 사용하는 컴퓨터가 이해할 수 있는 언어\n",
    "\n",
    "## 파이썬?\n",
    "   - 쉽고 간결\n",
    "   - 다양한 라이브러리"
   ]
  },
  {
   "cell_type": "code",
   "execution_count": null,
   "id": "979ecb3e-a79c-421b-802e-0192d928af25",
   "metadata": {},
   "outputs": [],
   "source": []
  },
  {
   "cell_type": "code",
   "execution_count": 4,
   "id": "2124a78c-918a-4913-867f-deeeb3a8c842",
   "metadata": {},
   "outputs": [
    {
     "name": "stdout",
     "output_type": "stream",
     "text": [
      "45\n"
     ]
    }
   ],
   "source": [
    "print(45) #주석처리"
   ]
  },
  {
   "cell_type": "markdown",
   "id": "8033a6ce-2b68-4543-9b2f-0b7a78cb0e58",
   "metadata": {
    "tags": []
   },
   "source": [
    "## Chapter 02. Data: Types, Values, Variables, and Names"
   ]
  },
  {
   "cell_type": "code",
   "execution_count": 2,
   "id": "a2ab06e7-24e8-4521-9c6e-9563296359c8",
   "metadata": {},
   "outputs": [
    {
     "data": {
      "text/plain": [
       "2"
      ]
     },
     "execution_count": 2,
     "metadata": {},
     "output_type": "execute_result"
    }
   ],
   "source": [
    "a=2\n",
    "a"
   ]
  },
  {
   "cell_type": "code",
   "execution_count": 3,
   "id": "98959ce6-5e50-4d71-bfb0-b025eed08d86",
   "metadata": {},
   "outputs": [
    {
     "data": {
      "text/plain": [
       "True"
      ]
     },
     "execution_count": 3,
     "metadata": {},
     "output_type": "execute_result"
    }
   ],
   "source": [
    "a==2"
   ]
  },
  {
   "cell_type": "markdown",
   "id": "e4a11cb9-9fb5-4df9-ab5d-3d012a049b6d",
   "metadata": {},
   "source": [
    "- 변수(variable) : 특정 값 저장하는 공간\n",
    "    a\n",
    "- 값(value)\n",
    "    2\n",
    "- 할당하다(assign): 변수에 값을 넣는 과정\n",
    "    \"2를 a에 넣었다.\"\n",
    "    cf. a는 2다. => a == 2\n",
    "    \n",
    "- 자료형(type): 데이터의 형태\n",
    "    a 데이터의 형태? integer (int 타입)"
   ]
  },
  {
   "cell_type": "markdown",
   "id": "321451eb-b0ed-4953-ad72-1e896f96a1d7",
   "metadata": {},
   "source": [
    "  *변수 사용 이유: 값 변경 필요 시, 간단하게 변경할 수 있음."
   ]
  },
  {
   "cell_type": "code",
   "execution_count": 4,
   "id": "079fc3f9-6352-4dbc-b97d-6dec8980d88b",
   "metadata": {},
   "outputs": [
    {
     "name": "stdout",
     "output_type": "stream",
     "text": [
      "2\n"
     ]
    }
   ],
   "source": [
    "print(a)"
   ]
  },
  {
   "cell_type": "code",
   "execution_count": 6,
   "id": "67547b83-fda9-4469-b2d7-e2a1221975ba",
   "metadata": {},
   "outputs": [
    {
     "data": {
      "text/plain": [
       "2"
      ]
     },
     "execution_count": 6,
     "metadata": {},
     "output_type": "execute_result"
    }
   ],
   "source": [
    "a"
   ]
  },
  {
   "cell_type": "code",
   "execution_count": 5,
   "id": "59aefe2e-2668-449e-9f4e-a2941b4c34bf",
   "metadata": {},
   "outputs": [
    {
     "data": {
      "text/plain": [
       "int"
      ]
     },
     "execution_count": 5,
     "metadata": {},
     "output_type": "execute_result"
    }
   ],
   "source": [
    "#type\n",
    "type(a)"
   ]
  },
  {
   "cell_type": "code",
   "execution_count": 7,
   "id": "f280c55b-0cbe-406e-b04d-62cf28da0bbc",
   "metadata": {},
   "outputs": [
    {
     "data": {
      "text/plain": [
       "int"
      ]
     },
     "execution_count": 7,
     "metadata": {},
     "output_type": "execute_result"
    }
   ],
   "source": [
    "type(2)"
   ]
  },
  {
   "cell_type": "code",
   "execution_count": 8,
   "id": "5a441662-3539-4553-941a-d807bb82f238",
   "metadata": {},
   "outputs": [
    {
     "data": {
      "text/plain": [
       "bool"
      ]
     },
     "execution_count": 8,
     "metadata": {},
     "output_type": "execute_result"
    }
   ],
   "source": [
    "type(a==2)  #bool, boolean T/F"
   ]
  },
  {
   "cell_type": "markdown",
   "id": "6cfc191a-8d75-42ac-8625-bb6945994b1e",
   "metadata": {},
   "source": [
    "### Type\n",
    "- integer|정수 : 1, 2, 3, ...\n",
    "- floating point number|부동소수점: 1.0, 2.0, ...\n",
    "- string|문자열: \"1\", 'apple'  **따옴표로 감싸면 string type\n",
    "- boolean|불리언: True/False (bool)"
   ]
  },
  {
   "cell_type": "code",
   "execution_count": 10,
   "id": "95425fa8-0ce7-4a7a-a72d-0269f53f5533",
   "metadata": {},
   "outputs": [
    {
     "data": {
      "text/plain": [
       "str"
      ]
     },
     "execution_count": 10,
     "metadata": {},
     "output_type": "execute_result"
    }
   ],
   "source": [
    "type(\"1\")"
   ]
  },
  {
   "cell_type": "code",
   "execution_count": 11,
   "id": "3e89cc72-cef1-4067-8175-4b42765faa59",
   "metadata": {},
   "outputs": [
    {
     "data": {
      "text/plain": [
       "str"
      ]
     },
     "execution_count": 11,
     "metadata": {},
     "output_type": "execute_result"
    }
   ],
   "source": [
    "type('apple')"
   ]
  },
  {
   "cell_type": "code",
   "execution_count": 12,
   "id": "b91bff12-4003-4f8a-8cac-41fa0281f6fa",
   "metadata": {},
   "outputs": [
    {
     "ename": "NameError",
     "evalue": "name 'apple' is not defined",
     "output_type": "error",
     "traceback": [
      "\u001b[1;31m---------------------------------------------------------------------------\u001b[0m",
      "\u001b[1;31mNameError\u001b[0m                                 Traceback (most recent call last)",
      "\u001b[1;32mC:\\Temp/ipykernel_20760/2462866011.py\u001b[0m in \u001b[0;36m<module>\u001b[1;34m\u001b[0m\n\u001b[1;32m----> 1\u001b[1;33m \u001b[0mtype\u001b[0m\u001b[1;33m(\u001b[0m\u001b[0mapple\u001b[0m\u001b[1;33m)\u001b[0m  \u001b[1;31m#변수명으로 인식된\u001b[0m\u001b[1;33m\u001b[0m\u001b[1;33m\u001b[0m\u001b[0m\n\u001b[0m",
      "\u001b[1;31mNameError\u001b[0m: name 'apple' is not defined"
     ]
    }
   ],
   "source": [
    "type(apple)  #변수명으로 인식됨"
   ]
  },
  {
   "cell_type": "code",
   "execution_count": 13,
   "id": "daceb58d-2682-4523-89bb-089b46a0a1c7",
   "metadata": {},
   "outputs": [
    {
     "data": {
      "text/plain": [
       "'Yeo'"
      ]
     },
     "execution_count": 13,
     "metadata": {},
     "output_type": "execute_result"
    }
   ],
   "source": [
    "name = 'Yeo'\n",
    "name"
   ]
  },
  {
   "cell_type": "code",
   "execution_count": 14,
   "id": "49abd92d-c202-4719-891a-338380a2af82",
   "metadata": {},
   "outputs": [
    {
     "name": "stdout",
     "output_type": "stream",
     "text": [
      "Yeo\n"
     ]
    }
   ],
   "source": [
    "print(name)"
   ]
  },
  {
   "cell_type": "code",
   "execution_count": 15,
   "id": "b04d64a5-90c3-4ba3-9eda-7ee57c230f2b",
   "metadata": {},
   "outputs": [
    {
     "name": "stdout",
     "output_type": "stream",
     "text": [
      "Yeo\n"
     ]
    }
   ],
   "source": [
    "print('Yeo')  #지양"
   ]
  },
  {
   "cell_type": "code",
   "execution_count": null,
   "id": "f60df4f8-b36e-4cce-987c-8d66d66bc423",
   "metadata": {},
   "outputs": [],
   "source": []
  },
  {
   "cell_type": "markdown",
   "id": "30384196-ba88-4753-bc05-3e5657f8950e",
   "metadata": {},
   "source": [
    "### 할당\n",
    "- = 기호 사용\n",
    "- 수학에서는 '양변이 같다'라는 의미로 사용되지만, 프로그래밍에서는 '할당하다'라는 의미가 추가된다.\n",
    "- \"오른쪽의 값을 왼쪽에 할당한다\"\n",
    "- 1. 오른쪽에 있는 모든 것은 값을 가져야 한다.(초기화해야 한다.)\n",
    "- 2. 같은 변수에 다른 값을 넣을 수 있다."
   ]
  },
  {
   "cell_type": "code",
   "execution_count": 21,
   "id": "56e5804a-5635-435e-8d65-096689ea3cfd",
   "metadata": {},
   "outputs": [],
   "source": [
    "x = 4      #초기화: 값을 처음 정해주는 것\n",
    "y = x + 3  #대입연산자 오른쪽의 값은 정해져 있어야 함"
   ]
  },
  {
   "cell_type": "code",
   "execution_count": 22,
   "id": "a9b6711d-93e2-4cfc-993b-95bde9c76b45",
   "metadata": {},
   "outputs": [
    {
     "data": {
      "text/plain": [
       "(4, 7)"
      ]
     },
     "execution_count": 22,
     "metadata": {},
     "output_type": "execute_result"
    }
   ],
   "source": [
    "x, y"
   ]
  },
  {
   "cell_type": "code",
   "execution_count": 23,
   "id": "28bb3f07-cf55-4b4f-9c62-5a390fb508c2",
   "metadata": {},
   "outputs": [],
   "source": [
    "name = 'kim'\n",
    "name = 'lee'\n",
    "name = 'park'\n",
    "name = 4   #최종 정해지는 값은 마지막에 선언한 값"
   ]
  },
  {
   "cell_type": "markdown",
   "id": "42de4965-b7f6-4c42-a25a-58d977098319",
   "metadata": {
    "tags": []
   },
   "source": [
    "delete: (block) + D, D"
   ]
  },
  {
   "cell_type": "code",
   "execution_count": 24,
   "id": "133e4d96-817b-4118-bc97-02faf642d6dd",
   "metadata": {},
   "outputs": [
    {
     "name": "stdout",
     "output_type": "stream",
     "text": [
      "4\n"
     ]
    }
   ],
   "source": [
    "print(name)  #변수명 동일하게 사용하지 말 것"
   ]
  },
  {
   "cell_type": "code",
   "execution_count": null,
   "id": "5a671731-f2c3-4a83-a6fb-3193a508a4c0",
   "metadata": {},
   "outputs": [],
   "source": [
    "text = 'abc'\n",
    "text = 'cde'"
   ]
  },
  {
   "cell_type": "markdown",
   "id": "8b1dd7fa-0928-4dee-b627-dd6a353605c5",
   "metadata": {},
   "source": [
    "### 변수명 정하기\n",
    "- 나쁜 변수명: a, b, c, a1, b1, ... \n",
    "- 남이 이해할 수 있는 의미있는 이름으로 선언해야 함.\n",
    "- 소문자, 대문자, 언더바 사용 \n",
    "  e.g. name, name2, my_name, Name, NAME"
   ]
  },
  {
   "cell_type": "code",
   "execution_count": 26,
   "id": "3ea45301-1c1c-4790-a338-362be1679020",
   "metadata": {},
   "outputs": [
    {
     "name": "stdout",
     "output_type": "stream",
     "text": [
      "juliette,jessica,laura\n"
     ]
    }
   ],
   "source": [
    "name = 'juliette'\n",
    "name1 = 'jessica'\n",
    "my_name = 'laura'\n",
    "# myName : camel case\n",
    "\n",
    "print(name, name1, my_name, sep=',')"
   ]
  },
  {
   "cell_type": "markdown",
   "id": "0dd3f911-4217-4e89-a23a-85fafb88c8db",
   "metadata": {},
   "source": [
    "- 안 되는 것\n",
    "   - 숫자로 시작 불가능\n",
    "    e.g. 22name, 22_name\n",
    "   - 예약어(문법에서 사용하는 이름)로 선언 불가능\n",
    "    e.g. def, False, ..."
   ]
  },
  {
   "cell_type": "code",
   "execution_count": 29,
   "id": "a3338d6d-887a-444a-980c-8a9e091d6a3e",
   "metadata": {},
   "outputs": [
    {
     "name": "stdout",
     "output_type": "stream",
     "text": [
      "\n",
      "Here is a list of the Python keywords.  Enter any keyword to get more help.\n",
      "\n",
      "False               break               for                 not\n",
      "None                class               from                or\n",
      "True                continue            global              pass\n",
      "__peg_parser__      def                 if                  raise\n",
      "and                 del                 import              return\n",
      "as                  elif                in                  try\n",
      "assert              else                is                  while\n",
      "async               except              lambda              with\n",
      "await               finally             nonlocal            yield\n",
      "\n"
     ]
    }
   ],
   "source": [
    "#if = 'kim'\n",
    "help(\"keywords\")   #변수 이름으로 사용 불가능"
   ]
  },
  {
   "cell_type": "markdown",
   "id": "23a79108-5732-495d-80e2-b803198e1417",
   "metadata": {},
   "source": [
    "- 조심할 것 : 특별한 용도가 있기 때문\n",
    "  - 언더바로 시작하는 변수명: _name #클래스 내부 변수 지칭\n",
    "  - 더블 언더바로 시작하는 변수명: __name__\n",
    "  - 대문자로 시작하는 변수명: Name\n",
    "  - 전체 대문자: NAME"
   ]
  },
  {
   "cell_type": "code",
   "execution_count": 30,
   "id": "2a8a4ca7-2c15-45e1-b5a7-a97a4cf73beb",
   "metadata": {},
   "outputs": [],
   "source": [
    "#변수명은 대소문자 구분됨\n",
    "num = 43\n",
    "Num = 44"
   ]
  },
  {
   "cell_type": "code",
   "execution_count": 31,
   "id": "630ae498-02a9-4b54-b11b-5bef7704bb6b",
   "metadata": {},
   "outputs": [
    {
     "data": {
      "text/plain": [
       "False"
      ]
     },
     "execution_count": 31,
     "metadata": {},
     "output_type": "execute_result"
    }
   ],
   "source": [
    "num==Num"
   ]
  },
  {
   "cell_type": "code",
   "execution_count": 32,
   "id": "0ac47e36-124e-49fa-8348-0be085e1b2c4",
   "metadata": {},
   "outputs": [
    {
     "data": {
      "text/plain": [
       "False"
      ]
     },
     "execution_count": 32,
     "metadata": {},
     "output_type": "execute_result"
    }
   ],
   "source": [
    "num = 'number'\n",
    "Nume = 'Number'\n",
    "\n",
    "num == Num"
   ]
  },
  {
   "cell_type": "code",
   "execution_count": 33,
   "id": "58bbcee4-0fb1-404c-a249-300c8ae9a31c",
   "metadata": {},
   "outputs": [
    {
     "data": {
      "text/plain": [
       "True"
      ]
     },
     "execution_count": 33,
     "metadata": {},
     "output_type": "execute_result"
    }
   ],
   "source": [
    "num != Num  #'다르다'"
   ]
  },
  {
   "cell_type": "code",
   "execution_count": null,
   "id": "dcf0c261-0709-44a9-a4de-f8adb6912136",
   "metadata": {},
   "outputs": [],
   "source": []
  }
 ],
 "metadata": {
  "kernelspec": {
   "display_name": "Python 3 (ipykernel)",
   "language": "python",
   "name": "python3"
  },
  "language_info": {
   "codemirror_mode": {
    "name": "ipython",
    "version": 3
   },
   "file_extension": ".py",
   "mimetype": "text/x-python",
   "name": "python",
   "nbconvert_exporter": "python",
   "pygments_lexer": "ipython3",
   "version": "3.9.7"
  }
 },
 "nbformat": 4,
 "nbformat_minor": 5
}
